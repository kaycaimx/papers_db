{
  "nbformat": 4,
  "nbformat_minor": 0,
  "metadata": {
    "colab": {
      "provenance": []
    },
    "kernelspec": {
      "name": "python3",
      "display_name": "Python 3"
    },
    "language_info": {
      "name": "python"
    }
  },
  "cells": [
    {
      "cell_type": "markdown",
      "source": [
        "CS5200 Spring 2024\n",
        "\n",
        "Project 1 by Group 4 (Mengxian Cai, Siyi Ling, Yunxi Li, Zixiang Hu)  \n",
        "\n",
        "Part 4. Python application\n"
      ],
      "metadata": {
        "id": "6hwPQMlevixy"
      }
    },
    {
      "cell_type": "markdown",
      "source": [
        "**1. Database setup and connection**"
      ],
      "metadata": {
        "id": "K0hgmsWoV4iY"
      }
    },
    {
      "cell_type": "code",
      "source": [
        "import sqlite3\n",
        "from sqlite3 import Error\n",
        "import matplotlib.pyplot as plt\n",
        "import numpy as np\n",
        "\n",
        "# Function to create a connection to SQLite\n",
        "def create_sqlite_connection(path):\n",
        "    connection = None\n",
        "    try:\n",
        "        connection = sqlite3.connect(path)\n",
        "        print(\"Connection successful\")\n",
        "    except Error as e:\n",
        "        print(f\"The error '{e}' occurred\")\n",
        "    return connection\n",
        "\n",
        "# Create a connection to the provided database 'project1.db'\n",
        "sqlite_connection = create_sqlite_connection('project1.db')"
      ],
      "metadata": {
        "colab": {
          "base_uri": "https://localhost:8080/"
        },
        "id": "Kzftbqjiv13j",
        "outputId": "61f456d7-4e50-484d-a129-7f11c90d8044"
      },
      "execution_count": null,
      "outputs": [
        {
          "output_type": "stream",
          "name": "stdout",
          "text": [
            "Connection successful\n"
          ]
        }
      ]
    },
    {
      "cell_type": "code",
      "source": [
        "# Function to execute an SQL statement in the connected database\n",
        "def execute_sql(connection, statement):\n",
        "    try:\n",
        "        c = connection.cursor()\n",
        "        c.execute(statement)\n",
        "    except Error as e:\n",
        "        print(f\"The error '{e}' occurred\")\n",
        "\n",
        "# Function to execute an SQL statement in the connected database\n",
        "# and store and return the result\n",
        "def execute_sql_cursor(connection, query):\n",
        "    c = connection.cursor()\n",
        "    result = None\n",
        "    try:\n",
        "        c.execute(query)\n",
        "        result = c.fetchall()\n",
        "        return result\n",
        "    except Error as e:\n",
        "        print(f\"The error '{e}' occurred\")\n"
      ],
      "metadata": {
        "id": "5tpTo0Lfx_bX"
      },
      "execution_count": null,
      "outputs": []
    },
    {
      "cell_type": "markdown",
      "source": [
        "**2. Task A**\n",
        "\n",
        "Take an acceptance criteria from the user. Considering only papers that have at least two reviews, update the status of all papers to \"accepted\" if the average of their review scores is more than or equal to suh criteria, \"rejected\" if less than that. If the paper has less than two reviews its status should be marked as \"undecided\"."
      ],
      "metadata": {
        "id": "GLphclOgXay3"
      }
    },
    {
      "cell_type": "code",
      "source": [
        "# Function to take acceptance criteria score from the user\n",
        "def take_acceptance_score_input():\n",
        "  valid = False\n",
        "  while not valid:\n",
        "    acceptance_score = input('Please enter the acceptance score for paper reviews:\\n')\n",
        "    try:\n",
        "      threshold = float(acceptance_score)\n",
        "      if threshold < 0 or threshold > 5:\n",
        "        print('Invalid score values. Scores must be between 0 and 5.')\n",
        "      else:\n",
        "        valid = True\n",
        "        return acceptance_score\n",
        "    except ValueError:\n",
        "      print('Score must be a number.')\n",
        "\n",
        "# Take the acceptance criteria score from the user in runtime\n",
        "# Test with invalid score 6 first, then valid score 3.5\n",
        "acceptance_threshold = take_acceptance_score_input()\n",
        "print(f'You have set the acceptance criteria as {acceptance_threshold}.')"
      ],
      "metadata": {
        "colab": {
          "base_uri": "https://localhost:8080/"
        },
        "id": "ikybww8WX5QT",
        "outputId": "c78de379-5bf6-4941-e481-4290f9d8bc08"
      },
      "execution_count": null,
      "outputs": [
        {
          "output_type": "stream",
          "name": "stdout",
          "text": [
            "Please enter the acceptance score for paper reviews:\n",
            "6\n",
            "Invalid score values. Scores must be between 0 and 5.\n",
            "Please enter the acceptance score for paper reviews:\n",
            "3.5\n",
            "You have set the acceptance criteria as 3.5.\n"
          ]
        }
      ]
    },
    {
      "cell_type": "code",
      "source": [
        "# Function to update the status of papers based on the acceptance criteria\n",
        "# This function takes a string of acceptance_threshold as parameter\n",
        "def update_papers_status(acceptance_threshold):\n",
        "  update_papers_query = \"\\\n",
        "  UPDATE Papers \\\n",
        "  SET status = \\\n",
        "    CASE \\\n",
        "      WHEN (SELECT count(average) FROM Author_Reviews_Paper a WHERE Papers.pid = paper_id) < 2 THEN 'undecided' \\\n",
        "      ELSE \\\n",
        "        CASE \\\n",
        "          WHEN (SELECT avg(average) FROM Author_Reviews_Paper a WHERE Papers.pid = paper_id) >= %s THEN 'accepted' \\\n",
        "          ELSE 'rejected' \\\n",
        "        END \\\n",
        "    END; \\\n",
        "  \" % acceptance_threshold\n",
        "\n",
        "  execute_sql(sqlite_connection, update_papers_query)\n",
        "\n",
        "# Update the status of papers based on the acceptance criteria input from user\n",
        "update_papers_status(acceptance_threshold)\n"
      ],
      "metadata": {
        "id": "2XHwGor6cc_E"
      },
      "execution_count": null,
      "outputs": []
    },
    {
      "cell_type": "markdown",
      "source": [
        "**3. Task B**\n",
        "\n",
        "Take a research area from the user. List the titles of accepted papers in that given research area in descending order of their average overall review scores."
      ],
      "metadata": {
        "id": "rvodNjT8f_3_"
      }
    },
    {
      "cell_type": "code",
      "source": [
        "# Function to take research area input from the user\n",
        "def take_research_area_input():\n",
        "  valid = False\n",
        "  while not valid:\n",
        "    research_area = input('Please enter the research area of papers:\\n')\n",
        "    if research_area.isalpha():\n",
        "        valid = True\n",
        "        return research_area\n",
        "    else:\n",
        "      print('Please do not enter non-alphabetic text.')\n",
        "\n",
        "# Take the research area from the user in runtime\n",
        "# Available areas for test on project1.db include: 'potions', 'charms',\n",
        "# 'transfiguration', 'astronomy','herbology','defence against dark arts'\n",
        "# Test with 'potions'\n",
        "research_area = take_research_area_input()\n",
        "print(f'You have set the research area as {research_area}')"
      ],
      "metadata": {
        "colab": {
          "base_uri": "https://localhost:8080/"
        },
        "id": "lLEDX92NiEQ_",
        "outputId": "975b811d-9868-4f0b-b264-fb8ed12da54c"
      },
      "execution_count": null,
      "outputs": [
        {
          "output_type": "stream",
          "name": "stdout",
          "text": [
            "Please enter the research area of papers:\n",
            "potions\n",
            "You have set the research area as potions\n"
          ]
        }
      ]
    },
    {
      "cell_type": "code",
      "source": [
        "# Function to get all accepted papers from the given research area\n",
        "# and rank them in descending order of their average overall review scores\n",
        "# This function takes a string of research_area as parameter and returns the\n",
        "# result of paper titles in a list\n",
        "def get_accepted_papers_from_area(research_area):\n",
        "  get_papers_query = \" \\\n",
        "  SELECT p.title \\\n",
        "  FROM Papers p JOIN Paper_Research_Area pra ON p.pid = pra.paper_id \\\n",
        "  WHERE p.status = 'accepted' AND pra.area_name = '%s' \\\n",
        "  ORDER BY \\\n",
        "  (SELECT avg(average) FROM Author_Reviews_Paper arp WHERE arp.paper_id = p.pid) DESC; \\\n",
        "  \" % research_area\n",
        "\n",
        "  return execute_sql_cursor(sqlite_connection, get_papers_query)\n",
        "\n",
        "# Retrieve all accepted papers based on the research area input from user\n",
        "result_set = get_accepted_papers_from_area(research_area)\n",
        "# Print out each paper for check\n",
        "for paper in result_set:\n",
        "  print(paper)"
      ],
      "metadata": {
        "colab": {
          "base_uri": "https://localhost:8080/"
        },
        "id": "kJMAPSn7gJBR",
        "outputId": "588b309c-b9ca-4788-ea61-ebb50fc8cfe7"
      },
      "execution_count": null,
      "outputs": [
        {
          "output_type": "stream",
          "name": "stdout",
          "text": [
            "('Draught of Living Death: Countermeasures and Antidotes',)\n",
            "('Amortentia Analysis: Unraveling the Complexities of the Love Potion',)\n"
          ]
        }
      ]
    },
    {
      "cell_type": "code",
      "source": [
        "# Test setting a different acceptance threshold: 2.5\n",
        "another_threshold = take_acceptance_score_input()\n",
        "print(f'You have set the acceptance criteria as {another_threshold}')"
      ],
      "metadata": {
        "colab": {
          "base_uri": "https://localhost:8080/"
        },
        "id": "LYJ1pN4XjoXW",
        "outputId": "dd3afcd2-7c0c-465e-d009-56c1f88920a5"
      },
      "execution_count": null,
      "outputs": [
        {
          "output_type": "stream",
          "name": "stdout",
          "text": [
            "Please enter the acceptance score for paper reviews:\n",
            "2.5\n",
            "You have set the acceptance criteria as 2.5\n"
          ]
        }
      ]
    },
    {
      "cell_type": "code",
      "source": [
        "# Test update the paper status with new threshold and get accepted papers\n",
        "# We can see one more paper is newly accepted\n",
        "update_papers_status(another_threshold)\n",
        "new_result_set = get_accepted_papers_from_area(research_area)\n",
        "for paper in new_result_set:\n",
        "  print(paper)"
      ],
      "metadata": {
        "colab": {
          "base_uri": "https://localhost:8080/"
        },
        "id": "YSUfHjGLkXde",
        "outputId": "4ee608d4-efd4-4f51-afae-cfa6b1173421"
      },
      "execution_count": null,
      "outputs": [
        {
          "output_type": "stream",
          "name": "stdout",
          "text": [
            "('Draught of Living Death: Countermeasures and Antidotes',)\n",
            "('Amortentia Analysis: Unraveling the Complexities of the Love Potion',)\n",
            "('The Efficacy of Polyjuice Potion in Mimicking Magical Abilities',)\n"
          ]
        }
      ]
    },
    {
      "cell_type": "code",
      "source": [
        "# Test another research_area: charms\n",
        "another_area = take_research_area_input()\n",
        "print(f'You have set the research are as {another_area}')"
      ],
      "metadata": {
        "colab": {
          "base_uri": "https://localhost:8080/"
        },
        "id": "Ku7NH-AFlT7I",
        "outputId": "5413a73d-4d92-49be-8383-011289d098be"
      },
      "execution_count": null,
      "outputs": [
        {
          "output_type": "stream",
          "name": "stdout",
          "text": [
            "Please enter the research area of papers:\n",
            "charms\n",
            "You have set the research are as charms\n"
          ]
        }
      ]
    },
    {
      "cell_type": "code",
      "source": [
        "# Test get all accepted papers in charms area\n",
        "charms_result_set = get_accepted_papers_from_area(another_area)\n",
        "for paper in charms_result_set:\n",
        "  print(paper)"
      ],
      "metadata": {
        "colab": {
          "base_uri": "https://localhost:8080/"
        },
        "id": "z5Z8SC1lljkT",
        "outputId": "937af787-70ce-4c3a-aa7b-1a70dbdd259b"
      },
      "execution_count": null,
      "outputs": [
        {
          "output_type": "stream",
          "name": "stdout",
          "text": [
            "('The Essence of Patronus Charm: Confronting Dementors with Light',)\n",
            "('The Unseen Art: Invisibility Cloaks and their Magical Properties',)\n"
          ]
        }
      ]
    },
    {
      "cell_type": "markdown",
      "source": [
        "\n",
        "**4. Task C**\n",
        "\n",
        "For each research topic find the number of accepted, rejected and undecided papers, and present the result in some type of visualization.\n"
      ],
      "metadata": {
        "id": "q6-XEs0dkuID"
      }
    },
    {
      "cell_type": "code",
      "source": [
        "# Update paper status back with acceptance threshold of 3.5\n",
        "update_papers_status(acceptance_threshold)\n",
        "\n",
        "# Function to get number of accepted, rejected and undecided papers\n",
        "# This function return a list of tuples where each tuple consists of area name,\n",
        "# and the total count numbers of accepted/rejected/undecided papers\n",
        "def get_papers_based_on_acceptance():\n",
        "  get_papers_query = '''\n",
        "    SELECT pra.area_name,\n",
        "    count(CASE WHEN p.status = 'accepted' THEN 1 END) AS accepted_papers,\n",
        "    count(CASE WHEN p.status = 'rejected' THEN 1 END) AS rejected_papers,\n",
        "    count(CASE WHEN p.status = 'undecided' THEN 1 END) AS undecided_papers\n",
        "    FROM Papers p JOIN Paper_Research_Area pra ON p.pid = pra.paper_id\n",
        "    GROUP BY pra.area_name;\n",
        "  '''\n",
        "  return execute_sql_cursor(sqlite_connection, get_papers_query)\n",
        "\n",
        "# Get the area name, counts of accepted/rejected/undecided papers\n",
        "all_papers_set = get_papers_based_on_acceptance()\n",
        "for line in all_papers_set:\n",
        "  print(line)"
      ],
      "metadata": {
        "colab": {
          "base_uri": "https://localhost:8080/"
        },
        "id": "Qrv_631qk9k1",
        "outputId": "8693950f-961d-4faf-d680-98cc0a5cfd1f"
      },
      "execution_count": null,
      "outputs": [
        {
          "output_type": "stream",
          "name": "stdout",
          "text": [
            "('astronomy', 0, 0, 1)\n",
            "('charms', 2, 0, 1)\n",
            "('defence against dark arts', 2, 0, 0)\n",
            "('herbology', 0, 1, 1)\n",
            "('potions', 2, 1, 1)\n",
            "('transfiguration', 0, 0, 1)\n"
          ]
        }
      ]
    },
    {
      "cell_type": "markdown",
      "source": [
        "Make visualization using matplotlib.pyplot"
      ],
      "metadata": {
        "id": "qvEHM0yKpggc"
      }
    },
    {
      "cell_type": "code",
      "source": [
        "# Extracting data for plotting\n",
        "research_areas = [item[0] for item in all_papers_set]\n",
        "accepted_papers = [item[1] for item in all_papers_set]\n",
        "rejected_papers = [item[2] for item in all_papers_set]\n",
        "undecided_papers = [item[3] for item in all_papers_set]\n",
        "\n",
        "# Set the width of the bars\n",
        "bar_width = 0.35\n",
        "\n",
        "# Calculate the position of bars on X-axis\n",
        "r1 = np.arange(len(research_areas))\n",
        "\n",
        "# Plotting the stacked bars\n",
        "plt.bar(r1, accepted_papers, width=bar_width, label='Accepted Papers', color='green')\n",
        "plt.bar(r1, rejected_papers, width=bar_width, label='Rejected Papers', bottom=accepted_papers, color='red')\n",
        "plt.bar(r1, undecided_papers, width=bar_width, label='Undecided Papers', bottom=[a + b for a, b in zip(accepted_papers, rejected_papers)], color='blue')\n",
        "\n",
        "# Adding labels, title, legend\n",
        "plt.xlabel('Research Areas')\n",
        "plt.ylabel('Number of Papers')\n",
        "plt.title('Research Papers Status')\n",
        "\n",
        "plt.xticks([r + bar_width for r in range(len(research_areas))], research_areas, rotation=45, ha='right')\n",
        "plt.legend()\n",
        "plt.show()"
      ],
      "metadata": {
        "colab": {
          "base_uri": "https://localhost:8080/",
          "height": 594
        },
        "id": "Q-ZEg9Vsnhd3",
        "outputId": "131b27f6-f812-451e-a51d-ecf18552d25d"
      },
      "execution_count": null,
      "outputs": [
        {
          "output_type": "display_data",
          "data": {
            "text/plain": [
              "<Figure size 640x480 with 1 Axes>"
            ],
            "image/png": "[encoded data removed]"
          },
          "metadata": {}
        }
      ]
    },
    {
      "cell_type": "markdown",
      "source": [
        "**5. Task D**\n",
        "\n",
        "Take a percentage threshold from the user. A review for a paper is inconsistent with respect to others if it has at least one average score different by more than such percentage (above or below) of the average of all average scores for that paper. For instance, given a particular paper and a percentage of 33%, if the average score for reviewer A is 4.5 and the average scores for both reviewers B and C is 3.0, then reviewer A's average score 4.5 would be inconsistent since it is 50% higher than the average of the average score of reviewers B and C. Considering that, list all reviewers responsible for inconsistent reviews."
      ],
      "metadata": {
        "id": "RI3Meot0sjqc"
      }
    },
    {
      "cell_type": "code",
      "source": [
        "# Function to take percentage threshold from the user\n",
        "def take_percentage_input():\n",
        "  valid = False\n",
        "  while not valid:\n",
        "    percentage = input('Please enter the percentage threshold in the form of 0.XX:\\n')\n",
        "    try:\n",
        "      threshold = float(percentage)\n",
        "      if threshold < 0 or threshold > 1:\n",
        "        print('Invalid threshold. Percentage must be between 0.00 and 1.00.')\n",
        "      else:\n",
        "        valid = True\n",
        "        return percentage\n",
        "    except ValueError:\n",
        "      print('Percentage threshold must be a number.')\n",
        "\n",
        "# Take the percentage threshold from the user in runtime\n",
        "# Test with 33%, i.e., 0.33\n",
        "percentage_threshold = take_percentage_input()\n",
        "print(f'You have set the percentage threshold as {percentage_threshold}')"
      ],
      "metadata": {
        "colab": {
          "base_uri": "https://localhost:8080/"
        },
        "id": "CguBPV1YtCBM",
        "outputId": "c3c32168-085d-4e23-bae0-b74bfa65ae37"
      },
      "execution_count": null,
      "outputs": [
        {
          "output_type": "stream",
          "name": "stdout",
          "text": [
            "Please enter the percentage threshold in the form of 0.XX:\n",
            "0.33\n",
            "You have set the percentage threshold as 0.33\n"
          ]
        }
      ]
    },
    {
      "cell_type": "code",
      "source": [
        "# Function to get inconsistent reviewers\n",
        "# This function takes a string of percentage_threshold as parameter and returns\n",
        "# the reviewers represented by their unique identifier i.e., email in a list\n",
        "def get_inconsistent_reviewers(percentage_threshold):\n",
        "  get_inconsistent_reviewers_query = \" \\\n",
        "  SELECT DISTINCT a1.reviewer_email \\\n",
        "  FROM Author_Reviews_Paper a1 \\\n",
        "  JOIN ( \\\n",
        "    SELECT paper_id, avg(average) AS overall_avg \\\n",
        "    FROM Author_Reviews_Paper \\\n",
        "    GROUP BY paper_id \\\n",
        "  ) AS a2 ON a1.paper_id = a2.paper_id \\\n",
        "  WHERE abs(a1.average - a2.overall_avg) > %s * a2.overall_avg; \\\n",
        "  \" % percentage_threshold\n",
        "\n",
        "  return execute_sql_cursor(sqlite_connection, get_inconsistent_reviewers_query)\n",
        "\n",
        "# Get inconsistent reviwers based on the percentage input from user\n",
        "inconsistent_reviewers = get_inconsistent_reviewers(percentage_threshold)\n",
        "for reviewer in inconsistent_reviewers:\n",
        "  print(reviewer)"
      ],
      "metadata": {
        "colab": {
          "base_uri": "https://localhost:8080/"
        },
        "id": "HSbd-IIouthg",
        "outputId": "e5338b07-ae71-4bd8-e244-a8ef6e05db6d"
      },
      "execution_count": null,
      "outputs": [
        {
          "output_type": "stream",
          "name": "stdout",
          "text": [
            "('m.mcgonagall@hogwarts.uk',)\n",
            "('s.snape@hogwarts.uk',)\n"
          ]
        }
      ]
    },
    {
      "cell_type": "markdown",
      "source": [
        "**6. Close the database connection**\n"
      ],
      "metadata": {
        "id": "OrLnP0Jkvdxm"
      }
    },
    {
      "cell_type": "code",
      "source": [
        "sqlite_connection.close()"
      ],
      "metadata": {
        "id": "r9EnObsBvZ3p"
      },
      "execution_count": null,
      "outputs": []
    }
  ]
}